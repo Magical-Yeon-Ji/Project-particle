{
 "cells": [
  {
   "cell_type": "code",
   "execution_count": 1,
   "metadata": {},
   "outputs": [],
   "source": [
    "class Particle:\n",
    "    def __init__(self, x, y, r, vx, vy):\n",
    "        self.__x = x\n",
    "        self.__y = y\n",
    "        self.__r = r\n",
    "        self.__vx = vx\n",
    "        self.__vy = vy\n",
    "\n",
    "    def get_x(self):\n",
    "        return self.__x\n",
    "\n",
    "    def get_y(self):\n",
    "        return self.__y\n",
    "\n",
    "    def get_r(self):\n",
    "        return self.__r\n",
    "    \n",
    "    def get_vx(self):\n",
    "        return self.__vx\n",
    "    \n",
    "    def get_vy(self):\n",
    "        return self.__vy\n",
    "\n",
    "    def set_x(self, x):\n",
    "        self.__x = x\n",
    "\n",
    "    def set_y(self, y):\n",
    "        self.__y = y\n",
    "        \n",
    "    def set_vx(self, vx):\n",
    "        self.__vx = vx\n",
    "        \n",
    "    def set_vy(self, vy):\n",
    "        self.__vy = vy"
   ]
  },
  {
   "cell_type": "code",
   "execution_count": null,
   "metadata": {},
   "outputs": [],
   "source": []
  }
 ],
 "metadata": {
  "kernelspec": {
   "display_name": "Python 3",
   "language": "python",
   "name": "python3"
  },
  "language_info": {
   "codemirror_mode": {
    "name": "ipython",
    "version": 3
   },
   "file_extension": ".py",
   "mimetype": "text/x-python",
   "name": "python",
   "nbconvert_exporter": "python",
   "pygments_lexer": "ipython3",
   "version": "3.6.7"
  }
 },
 "nbformat": 4,
 "nbformat_minor": 2
}
