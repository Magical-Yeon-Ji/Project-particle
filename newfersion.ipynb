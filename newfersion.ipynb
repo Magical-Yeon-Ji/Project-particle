{
 "cells": [
  {
   "cell_type": "code",
   "execution_count": 2,
   "metadata": {},
   "outputs": [
    {
     "ename": "NameError",
     "evalue": "name 'Particle' is not defined",
     "output_type": "error",
     "traceback": [
      "\u001b[0;31m---------------------------------------------------------------------------\u001b[0m",
      "\u001b[0;31mNameError\u001b[0m                                 Traceback (most recent call last)",
      "\u001b[0;32m<ipython-input-2-20f30ddc41fc>\u001b[0m in \u001b[0;36m<module>\u001b[0;34m\u001b[0m\n\u001b[1;32m     66\u001b[0m     \u001b[0;32mdef\u001b[0m \u001b[0mget_particles\u001b[0m\u001b[0;34m(\u001b[0m\u001b[0mself\u001b[0m\u001b[0;34m)\u001b[0m\u001b[0;34m:\u001b[0m\u001b[0;34m\u001b[0m\u001b[0;34m\u001b[0m\u001b[0m\n\u001b[1;32m     67\u001b[0m         \u001b[0;32mreturn\u001b[0m \u001b[0mself\u001b[0m\u001b[0;34m.\u001b[0m\u001b[0m__particles\u001b[0m\u001b[0;34m\u001b[0m\u001b[0;34m\u001b[0m\u001b[0m\n\u001b[0;32m---> 68\u001b[0;31m \u001b[0mscene\u001b[0m \u001b[0;34m=\u001b[0m \u001b[0mRectangularScene\u001b[0m\u001b[0;34m(\u001b[0m\u001b[0mX\u001b[0m\u001b[0;34m=\u001b[0m\u001b[0;36m5\u001b[0m\u001b[0;34m,\u001b[0m \u001b[0mY\u001b[0m\u001b[0;34m=\u001b[0m\u001b[0;36m5\u001b[0m\u001b[0;34m,\u001b[0m \u001b[0mn\u001b[0m\u001b[0;34m=\u001b[0m\u001b[0;36m5\u001b[0m\u001b[0;34m,\u001b[0m \u001b[0mtime_step\u001b[0m\u001b[0;34m=\u001b[0m\u001b[0;36m1.\u001b[0m \u001b[0;34m/\u001b[0m \u001b[0;36m30\u001b[0m\u001b[0;34m,\u001b[0m \u001b[0mr\u001b[0m\u001b[0;34m=\u001b[0m\u001b[0;36m0.04\u001b[0m\u001b[0;34m)\u001b[0m\u001b[0;34m\u001b[0m\u001b[0;34m\u001b[0m\u001b[0m\n\u001b[0m\u001b[1;32m     69\u001b[0m \u001b[0mscene\u001b[0m\u001b[0;34m.\u001b[0m\u001b[0mrun\u001b[0m\u001b[0;34m(\u001b[0m\u001b[0;34m)\u001b[0m\u001b[0;34m\u001b[0m\u001b[0;34m\u001b[0m\u001b[0m\n",
      "\u001b[0;32m<ipython-input-2-20f30ddc41fc>\u001b[0m in \u001b[0;36m__init__\u001b[0;34m(self, X, Y, n, time_step, r)\u001b[0m\n\u001b[1;32m     16\u001b[0m         \u001b[0;32mfor\u001b[0m \u001b[0mi\u001b[0m \u001b[0;32min\u001b[0m \u001b[0mrange\u001b[0m\u001b[0;34m(\u001b[0m\u001b[0mn\u001b[0m\u001b[0;34m)\u001b[0m\u001b[0;34m:\u001b[0m\u001b[0;34m\u001b[0m\u001b[0;34m\u001b[0m\u001b[0m\n\u001b[1;32m     17\u001b[0m             \u001b[0mposition\u001b[0m \u001b[0;34m=\u001b[0m \u001b[0mnp\u001b[0m\u001b[0;34m.\u001b[0m\u001b[0mrandom\u001b[0m\u001b[0;34m.\u001b[0m\u001b[0mrandom\u001b[0m\u001b[0;34m(\u001b[0m\u001b[0;34m(\u001b[0m\u001b[0;36m1\u001b[0m\u001b[0;34m,\u001b[0m \u001b[0;36m2\u001b[0m\u001b[0;34m)\u001b[0m\u001b[0;34m)\u001b[0m\u001b[0;34m\u001b[0m\u001b[0;34m\u001b[0m\u001b[0m\n\u001b[0;32m---> 18\u001b[0;31m             self.__particles.append(Particle(position[0][0] * X,\n\u001b[0m\u001b[1;32m     19\u001b[0m                                              \u001b[0mposition\u001b[0m\u001b[0;34m[\u001b[0m\u001b[0;36m0\u001b[0m\u001b[0;34m]\u001b[0m\u001b[0;34m[\u001b[0m\u001b[0;36m1\u001b[0m\u001b[0;34m]\u001b[0m \u001b[0;34m*\u001b[0m \u001b[0mY\u001b[0m\u001b[0;34m,\u001b[0m\u001b[0;34m\u001b[0m\u001b[0;34m\u001b[0m\u001b[0m\n\u001b[1;32m     20\u001b[0m                                              \u001b[0mr\u001b[0m\u001b[0;34m,\u001b[0m\u001b[0;34m\u001b[0m\u001b[0;34m\u001b[0m\u001b[0m\n",
      "\u001b[0;31mNameError\u001b[0m: name 'Particle' is not defined"
     ]
    }
   ],
   "source": [
    "import numpy as np\n",
    "import math\n",
    "import random\n",
    "import matplotlib.pyplot as plt\n",
    "import matplotlib.animation as animation\n",
    "\n",
    "\n",
    "class RectangularScene:\n",
    "    def __init__(self, X, Y, n, time_step, r):\n",
    "        self.__X = X\n",
    "        self.__Y = Y\n",
    "        self.__n = n\n",
    "        self.__r = r\n",
    "        self.__time_step = time_step\n",
    "        self.__particles = []\n",
    "        for i in range(n):\n",
    "            position = np.random.random((1, 2))\n",
    "            self.__particles.append(Particle(position[0][0] * X,\n",
    "                                             position[0][1] * Y,\n",
    "                                             r,\n",
    "                                             random.uniform(0, min(X, Y)),\n",
    "                                             random.uniform(0, min(X, Y))))\n",
    "\n",
    "    def __move(self):\n",
    "        for i, particle in enumerate(self.__particles):\n",
    "            x, y = particle.get_x(), particle.get_y()\n",
    "            vx, vy = particle.get_vx(), particle.get_vy()\n",
    "            r = particle.get_r()\n",
    "            x_next = x + vx * self.__time_step\n",
    "            y_next = y + vy * self.__time_step\n",
    "            if x_next + r >= self.__X or x_next - r <= 0:\n",
    "                self.__particles[i].set_vx(-vx)\n",
    "            if y_next + r >= self.__Y or y_next - r <= 0:\n",
    "                self.__particles[i].set_vy(-vy)\n",
    "            self.__particles[i].set_x(x + self.__particles[i].get_vx() * self.__time_step)\n",
    "            self.__particles[i].set_y(y + self.__particles[i].get_vy() * self.__time_step)\n",
    "                \n",
    "    def __init(self):\n",
    "        self.__rect.set_edgecolor('none')\n",
    "        self.__p.set_data([], [])\n",
    "        return self.__p, self.__rect\n",
    "\n",
    "    def __animate(self, i):\n",
    "        self.__move()\n",
    "        ms = int(self.__fig.dpi * 2 * self.__r * self.__fig.get_figwidth() / np.diff(self.__ax.get_xbound())[0])\n",
    "        self.__rect.set_edgecolor('k')\n",
    "        self.__p.set_data([x.get_x() for x in self.__particles], [x.get_y() for x in self.__particles])\n",
    "        self.__p.set_markersize(ms)\n",
    "        return self.__p, self.__rect\n",
    "\n",
    "    def run(self):\n",
    "        try:\n",
    "            self.__fig = plt.figure()\n",
    "            self.__fig.subplots_adjust(left=0, right=1, bottom=0, top=1)\n",
    "            self.__ax = self.__fig.add_subplot(111, aspect='equal', autoscale_on=False, xlim=(0, self.__X),\n",
    "                                               ylim=(0, self.__Y))\n",
    "            self.__p, = self.__ax.plot([], [], 'bo', ms=6)\n",
    "            self.__rect = plt.Rectangle((0., 0.), self.__X, self.__Y, ec='none', lw=2, fc='none')\n",
    "            self.__ax.add_patch(self.__rect)\n",
    "            \n",
    "            ani = animation.FuncAnimation(self.__fig, self.__animate, frames=300, init_func=self.__init, blit=True)\n",
    "            ani.save('animation.mp4', fps=30, extra_args=['-vcodec', 'libx264'])            \n",
    "        except Exception as e:\n",
    "            print(e)\n",
    "\n",
    "    def get_particles(self):\n",
    "        return self.__particles\n",
    "scene = RectangularScene(X=5, Y=5, n=5, time_step=1. / 30, r=0.04)\n",
    "scene.run()    "
   ]
  }
 ],
 "metadata": {
  "kernelspec": {
   "display_name": "Python 3",
   "language": "python",
   "name": "python3"
  },
  "language_info": {
   "codemirror_mode": {
    "name": "ipython",
    "version": 3
   },
   "file_extension": ".py",
   "mimetype": "text/x-python",
   "name": "python",
   "nbconvert_exporter": "python",
   "pygments_lexer": "ipython3",
   "version": "3.6.7"
  }
 },
 "nbformat": 4,
 "nbformat_minor": 2
}
