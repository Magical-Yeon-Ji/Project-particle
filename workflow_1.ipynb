{
 "cells": [
  {
   "cell_type": "code",
   "execution_count": 1,
   "metadata": {},
   "outputs": [],
   "source": [
    "class Particle:\n",
    "    def __init__(self, x, y, r, vx, vy):\n",
    "        self.__x = x\n",
    "        self.__y = y\n",
    "        self.__r = r\n",
    "        self.__vx = vx\n",
    "        self.__vy = vy\n",
    "\n",
    "    def get_x(self):\n",
    "        return self.__x\n",
    "\n",
    "    def get_y(self):\n",
    "        return self.__y\n",
    "\n",
    "    def get_r(self):\n",
    "        return self.__r\n",
    "    \n",
    "    def get_vx(self):\n",
    "        return self.__vx\n",
    "    \n",
    "    def get_vy(self):\n",
    "        return self.__vy\n",
    "\n",
    "    def set_x(self, x):\n",
    "        self.__x = x\n",
    "\n",
    "    def set_y(self, y):\n",
    "        self.__y = y\n",
    "        \n",
    "    def set_vx(self, vx):\n",
    "        self.__vx = vx\n",
    "        \n",
    "    def set_vy(self, vy):\n",
    "        self.__vy = vy"
   ]
  },
  {
   "cell_type": "code",
   "execution_count": 9,
   "metadata": {},
   "outputs": [],
   "source": [
    "import numpy as np\n",
    "import math\n",
    "import random\n",
    "import matplotlib.pyplot as plt\n",
    "import matplotlib.animation as animation\n",
    "\n",
    "\n",
    "class RectangularScene:\n",
    "    def __init__(self, X, Y, n, time_step, r):\n",
    "        self.__X = X\n",
    "        self.__Y = Y\n",
    "        self.__n = n\n",
    "        self.__r = r\n",
    "        self.__time_step = time_step\n",
    "        self.__particles = []\n",
    "        for i in range(n):\n",
    "            position = np.random.random((1, 2))\n",
    "            self.__particles.append(Particle(position[0][0] * X,\n",
    "                                             position[0][1] * Y,\n",
    "                                             r,\n",
    "                                             random.uniform(0, min(X, Y)),\n",
    "                                             random.uniform(0, min(X, Y))))\n",
    "\n",
    "    def __move(self):\n",
    "        for i, particle in enumerate(self.__particles):\n",
    "            x, y = particle.get_x(), particle.get_y()\n",
    "            vx, vy = particle.get_vx(), particle.get_vy()\n",
    "            r = particle.get_r()\n",
    "            x_next = x + vx * self.__time_step\n",
    "            y_next = y + vy * self.__time_step\n",
    "            if x_next + r >= self.__X or x_next - r <= 0:\n",
    "                self.__particles[i].set_vx(-vx)\n",
    "            if y_next + r >= self.__Y or y_next - r <= 0:\n",
    "                self.__particles[i].set_vy(-vy)\n",
    "            self.__particles[i].set_x(x + self.__particles[i].get_vx() * self.__time_step)\n",
    "            self.__particles[i].set_y(y + self.__particles[i].get_vy() * self.__time_step)\n",
    "                \n",
    "    def __init(self):\n",
    "        self.__rect.set_edgecolor('none')\n",
    "        self.__p.set_data([], [])\n",
    "        return self.__p, self.__rect\n",
    "\n",
    "    def __animate(self, i):\n",
    "        self.__move()\n",
    "        ms = int(self.__fig.dpi * 2 * self.__r * self.__fig.get_figwidth() / np.diff(self.__ax.get_xbound())[0])\n",
    "        self.__rect.set_edgecolor('k')\n",
    "        self.__p.set_data([x.get_x() for x in self.__particles], [x.get_y() for x in self.__particles])\n",
    "        self.__p.set_markersize(ms)\n",
    "        return self.__p, self.__rect\n",
    "\n",
    "    def run(self):\n",
    "        try:\n",
    "            self.__fig = plt.figure()\n",
    "            self.__fig.subplots_adjust(left=0, right=1, bottom=0, top=1)\n",
    "            self.__ax = self.__fig.add_subplot(111, aspect='equal', autoscale_on=False, xlim=(0, self.__X),\n",
    "                                               ylim=(0, self.__Y))\n",
    "            self.__p, = self.__ax.plot([], [], 'bo', ms=6)\n",
    "            self.__rect = plt.Rectangle((0., 0.), self.__X, self.__Y, ec='none', lw=2, fc='none')\n",
    "            self.__ax.add_patch(self.__rect)\n",
    "            \n",
    "            ani = animation.FuncAnimation(self.__fig, self.__animate, frames=300, init_func=self.__init, blit=True)\n",
    "            ani.save('animation.mp4', fps=30, extra_args=['-vcodec', 'libx264'])            \n",
    "        except Exception as e:\n",
    "            print(e)\n",
    "\n",
    "    def get_particles(self):\n",
    "        return self.__particles"
   ]
  },
  {
   "cell_type": "code",
   "execution_count": 11,
   "metadata": {},
   "outputs": [
    {
     "data": {
      "image/png": "[encoded data removed]",
      "text/plain": [
       "<Figure size 432x288 with 1 Axes>"
      ]
     },
     "metadata": {
      "needs_background": "light"
     },
     "output_type": "display_data"
    }
   ],
   "source": [
    "scene = RectangularScene(X=5, Y=5, n=5, time_step=1. / 30, r=0.04)\n",
    "scene.run()"
   ]
  },
  {
   "cell_type": "code",
   "execution_count": null,
   "metadata": {},
   "outputs": [],
   "source": []
  }
 ],
 "metadata": {
  "kernelspec": {
   "display_name": "Python 3",
   "language": "python",
   "name": "python3"
  },
  "language_info": {
   "codemirror_mode": {
    "name": "ipython",
    "version": 3
   },
   "file_extension": ".py",
   "mimetype": "text/x-python",
   "name": "python",
   "nbconvert_exporter": "python",
   "pygments_lexer": "ipython3",
   "version": "3.6.7"
  }
 },
 "nbformat": 4,
 "nbformat_minor": 2
}
